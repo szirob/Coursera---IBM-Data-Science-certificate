{
 "cells": [
  {
   "cell_type": "markdown",
   "metadata": {},
   "source": [
    "<center>\n",
    "    <img src=\"https://s3-api.us-geo.objectstorage.softlayer.net/cf-courses-data/CognitiveClass/Logos/organization_logo/organization_logo.png\" width=\"300\" alt=\"cognitiveclass.ai logo\"  />\n",
    "</center>\n"
   ]
  },
  {
   "cell_type": "markdown",
   "metadata": {},
   "source": [
    "#### Add your code below following the instructions given in the course\n"
   ]
  },
  {
   "cell_type": "markdown",
   "metadata": {},
   "source": [
    "# My Jupyter Notebook on IBM Watson Studio"
   ]
  },
  {
   "cell_type": "markdown",
   "metadata": {},
   "source": [
    "**Robert Szini**\\n"
       "Data scientist"
   ]
  },
  {
   "cell_type": "markdown",
   "metadata": {},
   "source": [
    "*I am interested in data science because I have been working as a credit risk modeler in a bank for years so data science is quite close to me. Furthermore, I would like to improve my knowledge in Python with previous experience in R and SAS and get to know with new machine learning algorithms.*"
   ]
  },
  {
   "cell_type": "code",
   "execution_count": 2,
   "metadata": {},
   "outputs": [
    {
     "data": {
      "image/png": "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\n",
      "text/plain": [
       "<Figure size 432x288 with 1 Axes>"
      ]
     },
     "metadata": {
      "needs_background": "light"
     },
     "output_type": "display_data"
    }
   ],
   "source": [
    "import numpy as np\n",
    "import seaborn as sns\n",
    "import matplotlib.pyplot as plt\n",
    "import pandas as pd\n",
    "\n",
    "df=pd.DataFrame(np.random.normal(1.75, 0.2, 5000))\n",
    "df.rename(columns={0:\"random numbers\"}, inplace=True)\n",
    "sns.histplot(data=df, x=\"random numbers\")\n",
    "plt.show()"
   ]
  },
  {
   "cell_type": "markdown",
   "metadata": {},
   "source": [
    "In order to generate random numbers from normal distribution 3 parameters have to be passed to the specific Python function: \n",
    "- mean\n",
    "- standard deviation\n",
    "- size of the generated sample\n",
    "\n",
    "The following code shows the correct application of the specific Python function: \n",
    "\n",
    "```python\n",
    "df=pd.DataFrame(np.random.normal(mean, standard deviation, size))\n",
    "```\n",
    "\n",
    "The following Table summarizes the applied parameters in the code above: \n",
    "\n",
    "|Mean|Standard deviation|Size|\n",
    "|:----:|:---------------:|:----:|\n",
    "|1.75|0.2|5000|\n",
    "\n",
    "Further information on normal distribution can be found on [Wikipedia](https://en.wikipedia.org/wiki/Normal_distribution)."
   ]
  }
 ],
 "metadata": {
  "kernelspec": {
   "display_name": "Python 3",
   "language": "python",
   "name": "python3"
  },
  "language_info": {
   "codemirror_mode": {
    "name": "ipython",
    "version": 3
   },
   "file_extension": ".py",
   "mimetype": "text/x-python",
   "name": "python",
   "nbconvert_exporter": "python",
   "pygments_lexer": "ipython3",
   "version": "3.8.5"
  }
 },
 "nbformat": 4,
 "nbformat_minor": 4
}
